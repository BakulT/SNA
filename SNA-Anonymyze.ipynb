{
 "cells": [
  {
   "cell_type": "markdown",
   "metadata": {},
   "source": [
    "## Program to anonymize A and B numbers prior to analysis\n",
    "##### 1) Input file created with required fields\n",
    "##### 2) Use Faker Factory & Default Dict to generate fake numbers for A & B\n",
    "##### 3) Reset indexes\n",
    "##### 4) Write to file\n",
    " "
   ]
  },
  {
   "cell_type": "markdown",
   "metadata": {},
   "source": [
    "### Import required libraries"
   ]
  },
  {
   "cell_type": "code",
   "execution_count": 10,
   "metadata": {},
   "outputs": [],
   "source": [
    "import pandas as pd\n",
    "from faker import Factory\n",
    "from collections import defaultdict"
   ]
  },
  {
   "cell_type": "markdown",
   "metadata": {},
   "source": [
    "### Import file data into pandas dataframe"
   ]
  },
  {
   "cell_type": "code",
   "execution_count": 43,
   "metadata": {},
   "outputs": [
    {
     "data": {
      "text/html": [
       "<div>\n",
       "<style scoped>\n",
       "    .dataframe tbody tr th:only-of-type {\n",
       "        vertical-align: middle;\n",
       "    }\n",
       "\n",
       "    .dataframe tbody tr th {\n",
       "        vertical-align: top;\n",
       "    }\n",
       "\n",
       "    .dataframe thead th {\n",
       "        text-align: right;\n",
       "    }\n",
       "</style>\n",
       "<table border=\"1\" class=\"dataframe\">\n",
       "  <thead>\n",
       "    <tr style=\"text-align: right;\">\n",
       "      <th></th>\n",
       "      <th>Unnamed: 0</th>\n",
       "      <th>AP_IMS</th>\n",
       "      <th>AP_NUM</th>\n",
       "      <th>AP_IGN</th>\n",
       "      <th>BP_IMS</th>\n",
       "      <th>BP_NUM</th>\n",
       "      <th>BP_IGN</th>\n",
       "      <th>CALL_DT</th>\n",
       "      <th>CALL_TM</th>\n",
       "      <th>CALL_SEC</th>\n",
       "      <th>CALL_MSEC</th>\n",
       "    </tr>\n",
       "  </thead>\n",
       "  <tbody>\n",
       "    <tr>\n",
       "      <th>0</th>\n",
       "      <td>0</td>\n",
       "      <td>NaN</td>\n",
       "      <td>18711236764</td>\n",
       "      <td>NaN</td>\n",
       "      <td>2.400706e+14</td>\n",
       "      <td>561739037</td>\n",
       "      <td>3.567891e+14</td>\n",
       "      <td>20191130</td>\n",
       "      <td>175035</td>\n",
       "      <td>6.0</td>\n",
       "      <td>0</td>\n",
       "    </tr>\n",
       "    <tr>\n",
       "      <th>1</th>\n",
       "      <td>1</td>\n",
       "      <td>NaN</td>\n",
       "      <td>18711236764</td>\n",
       "      <td>NaN</td>\n",
       "      <td>2.400706e+14</td>\n",
       "      <td>561739037</td>\n",
       "      <td>3.567891e+14</td>\n",
       "      <td>20191130</td>\n",
       "      <td>174954</td>\n",
       "      <td>43.0</td>\n",
       "      <td>0</td>\n",
       "    </tr>\n",
       "    <tr>\n",
       "      <th>2</th>\n",
       "      <td>2</td>\n",
       "      <td>2.400786e+14</td>\n",
       "      <td>49139046764</td>\n",
       "      <td>3.553451e+14</td>\n",
       "      <td>NaN</td>\n",
       "      <td>1615437370</td>\n",
       "      <td>NaN</td>\n",
       "      <td>20191130</td>\n",
       "      <td>234357</td>\n",
       "      <td>40.0</td>\n",
       "      <td>0</td>\n",
       "    </tr>\n",
       "    <tr>\n",
       "      <th>3</th>\n",
       "      <td>3</td>\n",
       "      <td>2.400785e+14</td>\n",
       "      <td>91699280764</td>\n",
       "      <td>3.528171e+14</td>\n",
       "      <td>2.400782e+14</td>\n",
       "      <td>0583510270</td>\n",
       "      <td>NaN</td>\n",
       "      <td>20191130</td>\n",
       "      <td>224956</td>\n",
       "      <td>3677.0</td>\n",
       "      <td>0</td>\n",
       "    </tr>\n",
       "    <tr>\n",
       "      <th>4</th>\n",
       "      <td>4</td>\n",
       "      <td>2.400782e+14</td>\n",
       "      <td>91883700764</td>\n",
       "      <td>3.567651e+14</td>\n",
       "      <td>2.400782e+14</td>\n",
       "      <td>2007459370</td>\n",
       "      <td>NaN</td>\n",
       "      <td>20191130</td>\n",
       "      <td>234254</td>\n",
       "      <td>275.0</td>\n",
       "      <td>0</td>\n",
       "    </tr>\n",
       "  </tbody>\n",
       "</table>\n",
       "</div>"
      ],
      "text/plain": [
       "   Unnamed: 0        AP_IMS       AP_NUM        AP_IGN        BP_IMS  \\\n",
       "0           0           NaN  18711236764           NaN  2.400706e+14   \n",
       "1           1           NaN  18711236764           NaN  2.400706e+14   \n",
       "2           2  2.400786e+14  49139046764  3.553451e+14           NaN   \n",
       "3           3  2.400785e+14  91699280764  3.528171e+14  2.400782e+14   \n",
       "4           4  2.400782e+14  91883700764  3.567651e+14  2.400782e+14   \n",
       "\n",
       "       BP_NUM        BP_IGN   CALL_DT  CALL_TM  CALL_SEC  CALL_MSEC  \n",
       "0   561739037  3.567891e+14  20191130   175035       6.0          0  \n",
       "1   561739037  3.567891e+14  20191130   174954      43.0          0  \n",
       "2  1615437370           NaN  20191130   234357      40.0          0  \n",
       "3  0583510270           NaN  20191130   224956    3677.0          0  \n",
       "4  2007459370           NaN  20191130   234254     275.0          0  "
      ]
     },
     "execution_count": 43,
     "metadata": {},
     "output_type": "execute_result"
    }
   ],
   "source": [
    "sampledata=pd.read_csv(\"C:\\\\Users\\\\181916\\\\SNA\\\\ShortFile\",sep='|')\n",
    "sampledata.head()"
   ]
  },
  {
   "cell_type": "markdown",
   "metadata": {},
   "source": [
    "### Create Faker Factory"
   ]
  },
  {
   "cell_type": "code",
   "execution_count": 12,
   "metadata": {},
   "outputs": [],
   "source": [
    "\n",
    "faker=Factory.create()"
   ]
  },
  {
   "cell_type": "markdown",
   "metadata": {},
   "source": [
    "### Generate masked numbers\n",
    "#### 1) Combined list of A_NUM and B_NUM.\n",
    "#### 2) Dedup\n",
    "#### 3) Rename col name to Number\n",
    "#### 4) Use default dict to generate masked number for each number"
   ]
  },
  {
   "cell_type": "code",
   "execution_count": 38,
   "metadata": {},
   "outputs": [
    {
     "data": {
      "text/plain": [
       "['NUMBER']"
      ]
     },
     "execution_count": 38,
     "metadata": {},
     "output_type": "execute_result"
    }
   ],
   "source": [
    "numlist=[]\n",
    "numset=set(list(sampledata['AP_NUM'])+list(sampledata['BP_NUM']))\n",
    "numlist=list(numset)\n",
    "allnumlist=pd.DataFrame(numlist)\n",
    "allnumlist.columns=['NUMBER']\n",
    "list(allnumlist.columns)"
   ]
  },
  {
   "cell_type": "code",
   "execution_count": 39,
   "metadata": {},
   "outputs": [],
   "source": [
    "allnumlist['MASKNUM']=allnumlist['NUMBER'].map(defaultdict(faker.phone_number))"
   ]
  },
  {
   "cell_type": "markdown",
   "metadata": {},
   "source": [
    "#### Merge the maske dnumber with main data frame - first for A Num then B Num\n",
    "#### Drop extra columns \n",
    "#### copy to new DF"
   ]
  },
  {
   "cell_type": "code",
   "execution_count": 50,
   "metadata": {},
   "outputs": [
    {
     "data": {
      "text/html": [
       "<div>\n",
       "<style scoped>\n",
       "    .dataframe tbody tr th:only-of-type {\n",
       "        vertical-align: middle;\n",
       "    }\n",
       "\n",
       "    .dataframe tbody tr th {\n",
       "        vertical-align: top;\n",
       "    }\n",
       "\n",
       "    .dataframe thead th {\n",
       "        text-align: right;\n",
       "    }\n",
       "</style>\n",
       "<table border=\"1\" class=\"dataframe\">\n",
       "  <thead>\n",
       "    <tr style=\"text-align: right;\">\n",
       "      <th></th>\n",
       "      <th>APMASKNUM</th>\n",
       "      <th>BPMASKNUM</th>\n",
       "      <th>CALL_DT</th>\n",
       "      <th>CALL_TM</th>\n",
       "      <th>CALL_SEC</th>\n",
       "      <th>CALL_MSEC</th>\n",
       "    </tr>\n",
       "  </thead>\n",
       "  <tbody>\n",
       "    <tr>\n",
       "      <th>0</th>\n",
       "      <td>5552672684</td>\n",
       "      <td>(639)663-8007x6286</td>\n",
       "      <td>20191130</td>\n",
       "      <td>175035</td>\n",
       "      <td>6.0</td>\n",
       "      <td>0</td>\n",
       "    </tr>\n",
       "    <tr>\n",
       "      <th>1</th>\n",
       "      <td>5552672684</td>\n",
       "      <td>(639)663-8007x6286</td>\n",
       "      <td>20191130</td>\n",
       "      <td>174954</td>\n",
       "      <td>43.0</td>\n",
       "      <td>0</td>\n",
       "    </tr>\n",
       "    <tr>\n",
       "      <th>2</th>\n",
       "      <td>518-294-4233x93153</td>\n",
       "      <td>(416)606-6912x60695</td>\n",
       "      <td>20191130</td>\n",
       "      <td>234357</td>\n",
       "      <td>40.0</td>\n",
       "      <td>0</td>\n",
       "    </tr>\n",
       "    <tr>\n",
       "      <th>3</th>\n",
       "      <td>(773)933-2121</td>\n",
       "      <td>(629)392-9569x1627</td>\n",
       "      <td>20191130</td>\n",
       "      <td>224956</td>\n",
       "      <td>3677.0</td>\n",
       "      <td>0</td>\n",
       "    </tr>\n",
       "    <tr>\n",
       "      <th>4</th>\n",
       "      <td>753-664-9496x027</td>\n",
       "      <td>(656)700-3467x92491</td>\n",
       "      <td>20191130</td>\n",
       "      <td>234254</td>\n",
       "      <td>275.0</td>\n",
       "      <td>0</td>\n",
       "    </tr>\n",
       "  </tbody>\n",
       "</table>\n",
       "</div>"
      ],
      "text/plain": [
       "            APMASKNUM            BPMASKNUM   CALL_DT  CALL_TM  CALL_SEC  \\\n",
       "0          5552672684   (639)663-8007x6286  20191130   175035       6.0   \n",
       "1          5552672684   (639)663-8007x6286  20191130   174954      43.0   \n",
       "2  518-294-4233x93153  (416)606-6912x60695  20191130   234357      40.0   \n",
       "3       (773)933-2121   (629)392-9569x1627  20191130   224956    3677.0   \n",
       "4    753-664-9496x027  (656)700-3467x92491  20191130   234254     275.0   \n",
       "\n",
       "   CALL_MSEC  \n",
       "0          0  \n",
       "1          0  \n",
       "2          0  \n",
       "3          0  \n",
       "4          0  "
      ]
     },
     "execution_count": 50,
     "metadata": {},
     "output_type": "execute_result"
    }
   ],
   "source": [
    "merged_dataframe = pd.merge(sampledata, allnumlist, left_on= \"AP_NUM\", right_on= \"NUMBER\", how= \"inner\")\n",
    "merge1df=merged_dataframe[['BP_NUM','CALL_DT','CALL_TM','CALL_SEC','CALL_MSEC','MASKNUM']]\n",
    "#merged_dataframe = pd.merge(sampledata, allnumlist, left_on= \"BP_NUM\", right_on= \"NUMBER\", how= \"inner\")\n",
    "merge1df.columns=['BP_NUM','CALL_DT','CALL_TM','CALL_SEC','CALL_MSEC','APMASKNUM']\n",
    "merged_dataframe=pd.merge(merge1df,allnumlist,left_on=\"BP_NUM\",right_on=\"NUMBER\",how=\"inner\")\n",
    "merge2df=merged_dataframe[['APMASKNUM','MASKNUM','CALL_DT','CALL_TM','CALL_SEC','CALL_MSEC']]\n",
    "#merged_dataframe = pd.merge(sampledata, allnumlist, left_on= \"BP_NUM\", right_on= \"NUMBER\", how= \"inner\")\n",
    "merge2df.columns=['APMASKNUM','BPMASKNUM','CALL_DT','CALL_TM','CALL_SEC','CALL_MSEC']\n",
    "merge2df.head()\n",
    "\n",
    "\n",
    "#sampledata['AP_NUM_MASK']=sampledata['AP_NUM'].map(allnumlist)"
   ]
  },
  {
   "cell_type": "code",
   "execution_count": 51,
   "metadata": {},
   "outputs": [],
   "source": [
    "anondata=merge2df.copy()"
   ]
  },
  {
   "cell_type": "markdown",
   "metadata": {},
   "source": [
    "### Reset index"
   ]
  },
  {
   "cell_type": "code",
   "execution_count": 16,
   "metadata": {},
   "outputs": [],
   "source": [
    "anondata=sampledata[['AP_NUM_MASK','BP_NUM_MASK','CALL_DT','CALL_TM','CALL_SEC','CALL_MSEC']]\n",
    "anondata.reset_index(drop=True,inplace=True)"
   ]
  },
  {
   "cell_type": "markdown",
   "metadata": {},
   "source": [
    "### Verify Data"
   ]
  },
  {
   "cell_type": "code",
   "execution_count": 17,
   "metadata": {},
   "outputs": [
    {
     "data": {
      "text/html": [
       "<div>\n",
       "<style scoped>\n",
       "    .dataframe tbody tr th:only-of-type {\n",
       "        vertical-align: middle;\n",
       "    }\n",
       "\n",
       "    .dataframe tbody tr th {\n",
       "        vertical-align: top;\n",
       "    }\n",
       "\n",
       "    .dataframe thead th {\n",
       "        text-align: right;\n",
       "    }\n",
       "</style>\n",
       "<table border=\"1\" class=\"dataframe\">\n",
       "  <thead>\n",
       "    <tr style=\"text-align: right;\">\n",
       "      <th></th>\n",
       "      <th>AP_NUM_MASK</th>\n",
       "      <th>BP_NUM_MASK</th>\n",
       "      <th>CALL_DT</th>\n",
       "      <th>CALL_TM</th>\n",
       "      <th>CALL_SEC</th>\n",
       "      <th>CALL_MSEC</th>\n",
       "    </tr>\n",
       "  </thead>\n",
       "  <tbody>\n",
       "    <tr>\n",
       "      <th>0</th>\n",
       "      <td>+1-584-486-5733</td>\n",
       "      <td>(311)744-4072</td>\n",
       "      <td>20191130</td>\n",
       "      <td>175035</td>\n",
       "      <td>6.0</td>\n",
       "      <td>0</td>\n",
       "    </tr>\n",
       "    <tr>\n",
       "      <th>1</th>\n",
       "      <td>+1-584-486-5733</td>\n",
       "      <td>(311)744-4072</td>\n",
       "      <td>20191130</td>\n",
       "      <td>174954</td>\n",
       "      <td>43.0</td>\n",
       "      <td>0</td>\n",
       "    </tr>\n",
       "    <tr>\n",
       "      <th>2</th>\n",
       "      <td>385-896-5513</td>\n",
       "      <td>+1-174-987-4923x6930</td>\n",
       "      <td>20191130</td>\n",
       "      <td>234357</td>\n",
       "      <td>40.0</td>\n",
       "      <td>0</td>\n",
       "    </tr>\n",
       "    <tr>\n",
       "      <th>3</th>\n",
       "      <td>142.054.4797</td>\n",
       "      <td>519-666-5196x8090</td>\n",
       "      <td>20191130</td>\n",
       "      <td>224956</td>\n",
       "      <td>3677.0</td>\n",
       "      <td>0</td>\n",
       "    </tr>\n",
       "    <tr>\n",
       "      <th>4</th>\n",
       "      <td>831.135.5363</td>\n",
       "      <td>342.624.9883</td>\n",
       "      <td>20191130</td>\n",
       "      <td>234254</td>\n",
       "      <td>275.0</td>\n",
       "      <td>0</td>\n",
       "    </tr>\n",
       "  </tbody>\n",
       "</table>\n",
       "</div>"
      ],
      "text/plain": [
       "       AP_NUM_MASK           BP_NUM_MASK   CALL_DT  CALL_TM  CALL_SEC  \\\n",
       "0  +1-584-486-5733         (311)744-4072  20191130   175035       6.0   \n",
       "1  +1-584-486-5733         (311)744-4072  20191130   174954      43.0   \n",
       "2     385-896-5513  +1-174-987-4923x6930  20191130   234357      40.0   \n",
       "3     142.054.4797     519-666-5196x8090  20191130   224956    3677.0   \n",
       "4     831.135.5363          342.624.9883  20191130   234254     275.0   \n",
       "\n",
       "   CALL_MSEC  \n",
       "0          0  \n",
       "1          0  \n",
       "2          0  \n",
       "3          0  \n",
       "4          0  "
      ]
     },
     "execution_count": 17,
     "metadata": {},
     "output_type": "execute_result"
    }
   ],
   "source": [
    "anondata.head()\n"
   ]
  },
  {
   "cell_type": "markdown",
   "metadata": {},
   "source": [
    "### Write data to file and close"
   ]
  },
  {
   "cell_type": "code",
   "execution_count": 52,
   "metadata": {},
   "outputs": [],
   "source": [
    "anondata.to_csv(\"C:\\\\Users\\\\181916\\\\SNA\\ShortFileAnon\",sep='|')"
   ]
  },
  {
   "cell_type": "markdown",
   "metadata": {},
   "source": [
    "### Anonymized data ready to use"
   ]
  }
 ],
 "metadata": {
  "kernelspec": {
   "display_name": "Python 3",
   "language": "python",
   "name": "python3"
  },
  "language_info": {
   "codemirror_mode": {
    "name": "ipython",
    "version": 3
   },
   "file_extension": ".py",
   "mimetype": "text/x-python",
   "name": "python",
   "nbconvert_exporter": "python",
   "pygments_lexer": "ipython3",
   "version": "3.7.0"
  }
 },
 "nbformat": 4,
 "nbformat_minor": 2
}
